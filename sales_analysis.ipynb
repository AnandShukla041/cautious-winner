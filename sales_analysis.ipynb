{
 "cells": [
  {
   "cell_type": "markdown",
   "id": "3ed64c2e",
   "metadata": {},
   "source": [
    "# 📊 Walmart Sales Analysis\n",
    "This notebook analyzes city-wise sales from a Walmart dataset, visualizing the top cities and overall sales distribution.\n"
   ]
  },
  {
   "cell_type": "markdown",
   "id": "bde23ba8",
   "metadata": {},
   "source": [
    "import os\n",
    "import pandas as pd\n",
    "import matplotlib.pyplot as plt\n",
    "import matplotlib.ticker as ticker\n"
   ]
  },
  {
   "cell_type": "markdown",
   "id": "01541e55",
   "metadata": {},
   "source": [
    "file_path = \"walmart_sales.csv\"\n",
    "df = pd.read_csv(file_path)\n",
    "df.head()\n"
   ]
  },
  {
   "cell_type": "code",
   "execution_count": null,
   "id": "3c2bf0b2",
   "metadata": {
    "vscode": {
     "languageId": "plaintext"
    }
   },
   "outputs": [],
   "source": [
    "df[\"unit_price\"] = df[\"unit_price\"].replace(r\"[\\$,]\", \"\", regex=True).astype(float)\n",
    "df[\"quantity\"] = pd.to_numeric(df[\"quantity\"], errors=\"coerce\").fillna(0)\n",
    "df[\"total\"] = df[\"unit_price\"] * df[\"quantity\"]\n",
    "df[[\"unit_price\", \"quantity\", \"total\"]].head()\n"
   ]
  },
  {
   "cell_type": "code",
   "execution_count": null,
   "id": "67dbd1c1",
   "metadata": {
    "vscode": {
     "languageId": "plaintext"
    }
   },
   "outputs": [],
   "source": [
    "city_sales = df.groupby(\"City\")[\"total\"].sum()\n",
    "city_sales = city_sales[city_sales > 0]\n",
    "city_sales_sorted = city_sales.sort_values(ascending=False)\n",
    "city_sales_sorted.head(10)\n"
   ]
  },
  {
   "cell_type": "code",
   "execution_count": null,
   "id": "d11b4062",
   "metadata": {
    "vscode": {
     "languageId": "plaintext"
    }
   },
   "outputs": [],
   "source": [
    "top_10 = city_sales_sorted[:10]\n",
    "others = city_sales_sorted[10:].sum()\n",
    "top_10_with_others = top_10.copy()\n",
    "top_10_with_others[\"Others\"] = others\n",
    "top_10_with_others = top_10_with_others.sort_values(ascending=False)\n",
    "top_10_with_others\n"
   ]
  },
  {
   "cell_type": "code",
   "execution_count": null,
   "id": "27fe12e7",
   "metadata": {
    "vscode": {
     "languageId": "plaintext"
    }
   },
   "outputs": [],
   "source": [
    "fig, (ax1, ax2) = plt.subplots(1, 2, figsize=(16, 8))\n",
    "colors = plt.cm.tab20.colors\n",
    "\n",
    "# Pie chart\n",
    "wedges, texts, autotexts = ax1.pie(\n",
    "    top_10_with_others,\n",
    "    labels=None,\n",
    "    autopct=\"%1.1f%%\",\n",
    "    startangle=140,\n",
    "    colors=colors,\n",
    "    textprops={'fontsize': 9}\n",
    ")\n",
    "ax1.set_title(\"Sales Distribution by City\", fontsize=14)\n",
    "ax1.legend(\n",
    "    top_10_with_others.index,\n",
    "    title=\"Cities\",\n",
    "    loc=\"center left\",\n",
    "    bbox_to_anchor=(1, 0.5),\n",
    "    fontsize=9\n",
    ")\n",
    "\n",
    "# Bar chart\n",
    "bars = top_10.sort_values().plot.barh(\n",
    "    ax=ax2, \n",
    "    color='cornflowerblue',\n",
    "    edgecolor='black'\n",
    ")\n",
    "ax2.set_xlabel(\"Total Sales (USD)\")\n",
    "ax2.set_ylabel(\"City\")\n",
    "ax2.set_title(\"Top 10 Cities by Total Sales\", fontsize=14)\n",
    "ax2.xaxis.set_major_formatter(ticker.FuncFormatter(lambda x, _: f\"${x:,.0f}\"))\n",
    "ax2.bar_label(bars.containers[0], fmt='${:,.0f}', label_type='edge', fontsize=8, padding=3)\n",
    "ax2.invert_yaxis()\n",
    "\n",
    "plt.tight_layout()\n",
    "plt.show()\n"
   ]
  },
  {
   "cell_type": "code",
   "execution_count": null,
   "id": "82399f89",
   "metadata": {
    "vscode": {
     "languageId": "plaintext"
    }
   },
   "outputs": [],
   "source": [
    "output_folder = \"Reports\"\n",
    "os.makedirs(output_folder, exist_ok=True)\n",
    "output_path = os.path.join(output_folder, \"city_sales_charts.png\")\n",
    "fig.savefig(output_path, dpi=300, bbox_inches=\"tight\")\n",
    "print(f\"✅ Chart saved to {output_path}\")\n"
   ]
  },
  {
   "cell_type": "code",
   "execution_count": null,
   "id": "8d5270e7",
   "metadata": {
    "vscode": {
     "languageId": "plaintext"
    }
   },
   "outputs": [],
   "source": []
  },
  {
   "cell_type": "code",
   "execution_count": null,
   "id": "b1dff4ab",
   "metadata": {
    "vscode": {
     "languageId": "plaintext"
    }
   },
   "outputs": [],
   "source": []
  }
 ],
 "metadata": {
  "language_info": {
   "name": "python"
  }
 },
 "nbformat": 4,
 "nbformat_minor": 5
}
